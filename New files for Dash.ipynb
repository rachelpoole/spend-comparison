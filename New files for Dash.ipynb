{
 "cells": [
  {
   "cell_type": "markdown",
   "metadata": {},
   "source": [
    "# New files for Dash"
   ]
  },
  {
   "cell_type": "code",
   "execution_count": 1,
   "metadata": {},
   "outputs": [],
   "source": [
    "import pandas as pd\n",
    "import numpy as np\n",
    "import plotly\n",
    "import plotly.graph_objs as go\n",
    "import dash\n",
    "import dash_core_components as dcc\n",
    "import dash_html_components as html\n",
    "from dash.dependencies import Input, Output"
   ]
  },
  {
   "cell_type": "code",
   "execution_count": 3,
   "metadata": {},
   "outputs": [],
   "source": [
    "external_stylesheets = ['https://codepen.io/chriddyp/pen/bWLwgP.css']"
   ]
  },
  {
   "cell_type": "code",
   "execution_count": 4,
   "metadata": {},
   "outputs": [],
   "source": [
    "app = dash.Dash(__name__, external_stylesheets = external_stylesheets)"
   ]
  },
  {
   "cell_type": "code",
   "execution_count": 2,
   "metadata": {},
   "outputs": [],
   "source": [
    "# Data file\n",
    "df = (pd.read_csv('data/rand.csv', parse_dates = ['date'])\n",
    "        .drop(columns = 'Unnamed: 0', axis = 1))\n",
    "\n",
    "df = (df.copy()\n",
    "        .loc[df['amount']<0]\n",
    "        .set_index('date')\n",
    "        .resample('D').agg({'amount':'sum', 'bal':'last'})\n",
    "        .replace(np.nan, method = 'ffill')\n",
    "        .reset_index()\n",
    "        .assign(cumulative_annual = lambda x: x.groupby(x['date'].dt.year)['amount'].cumsum().multiply(-1),\n",
    "                cumulative_month = lambda x: x.groupby(x['date'].dt.to_period('M'))['amount'].cumsum().multiply(-1),\n",
    "                month = lambda x: x['date'].dt.to_period('M').dt.strftime('%b %Y'), #.astype('str'), \n",
    "                day = lambda x: x['date'].dt.day))"
   ]
  },
  {
   "cell_type": "code",
   "execution_count": 31,
   "metadata": {},
   "outputs": [
    {
     "data": {
      "text/plain": [
       "0.6"
      ]
     },
     "execution_count": 31,
     "metadata": {},
     "output_type": "execute_result"
    }
   ],
   "source": [
    "selected_month = 'Apr 2019'\n",
    "comparison_month = 'May 2019'\n",
    "\n",
    "\n",
    "# df.loc[df['month'] == selected_month, 'cumulative_month'].max()\n",
    "# df.loc[df['month'] == selected_month, 'day'].max()\n",
    "\n",
    "select_max = df.loc[df['month'] == selected_month, 'day'].max()\n",
    "comparison_max = df.loc[df['month'] == comparison_month, 'day'].max()\n",
    "\n",
    "x1 = select_max / max(select_max, comparison_max)\n",
    "x2 = comparison_max / max(select_max, comparison_max)\n",
    "\n",
    "\n",
    "\n",
    "x2 = df.loc[df['month'] == comparison_month, 'day'].max()/max(df.loc[df['month'] == comparison_month, 'day'].max(), df.loc[df['month'] == selected_month, 'day'].max())\n",
    "\n",
    "x2\n",
    "# [df.loc[df['month'] == selected_month, 'day'].max()/(max([df.loc[df['month'] == selected_month, 'day'].max(), df.loc[df['month'] == comparison_month, 'day'].max()]\n",
    "\n",
    "# df.head()"
   ]
  },
  {
   "cell_type": "code",
   "execution_count": 6,
   "metadata": {},
   "outputs": [],
   "source": [
    "# General app structure\n",
    "\n",
    "app.layout = html.Div([\n",
    "    html.Div([\n",
    "        html.Div([\n",
    "            dcc.Dropdown(id='xaxis-column-1',\n",
    "                         options=[{'label': i, 'value': i} for i in df['month'].unique()], \n",
    "                         value='2019-05'),\n",
    "        ],\n",
    "        style={'width': '40%', \n",
    "               'float': 'left', \n",
    "               'display': 'inline-block'}),\n",
    "\n",
    "        html.Div([\n",
    "            dcc.Dropdown(\n",
    "                id='xaxis-column-2',\n",
    "                options=[{'label': i, 'value': i} for i in df['month'].unique()],\n",
    "                value='2019-04'),\n",
    "        ],\n",
    "        style={'width': '40%', \n",
    "               'float': 'right', \n",
    "               'display': 'inline-block'})\n",
    "    ]),\n",
    "\n",
    "    dcc.Graph(id='months-graphic'),\n",
    "\n",
    "])\n",
    "\n",
    "\n",
    "# Add titles etc in here"
   ]
  },
  {
   "cell_type": "code",
   "execution_count": null,
   "metadata": {},
   "outputs": [],
   "source": [
    "html.H1()"
   ]
  },
  {
   "cell_type": "code",
   "execution_count": 5,
   "metadata": {},
   "outputs": [],
   "source": [
    "# Formatting properties\n",
    "labels = ['This month to date', 'Last month', 'Average month']\n",
    "colours = ['rgb(98, 29, 75)', 'rgb(61, 72, 73)', 'rgb(189,189,189)']\n",
    "mode_size = [12, 8, 8]\n",
    "line_size = [4, 2, 2]"
   ]
  },
  {
   "cell_type": "code",
   "execution_count": 7,
   "metadata": {},
   "outputs": [
    {
     "name": "stdout",
     "output_type": "stream",
     "text": [
      "Running on http://127.0.0.1:8050/\n",
      "Debugger PIN: 945-763-340\n"
     ]
    },
    {
     "ename": "SystemExit",
     "evalue": "1",
     "output_type": "error",
     "traceback": [
      "An exception has occurred, use %tb to see the full traceback.\n",
      "\u001b[0;31mSystemExit\u001b[0m\u001b[0;31m:\u001b[0m 1\n"
     ]
    },
    {
     "name": "stderr",
     "output_type": "stream",
     "text": [
      "/Users/Rachel/anaconda3/lib/python3.6/site-packages/IPython/core/interactiveshell.py:3275: UserWarning:\n",
      "\n",
      "To exit: use 'exit', 'quit', or Ctrl-D.\n",
      "\n"
     ]
    }
   ],
   "source": [
    "# Update graph based on callbacks\n",
    "@app.callback(Output('months-graphic', 'figure'),\n",
    "              [Input('xaxis-column-1', 'value'),\n",
    "               Input('xaxis-column-2', 'value')])\n",
    "\n",
    "def update_graph(xaxis_column_1_name, xaxis_column_2_name):\n",
    "    return {\n",
    "        'data': [go.Scatter(\n",
    "            x = df['day'],\n",
    "            y = df.loc[df['month'] == xaxis_column_1_name],\n",
    "            name = \"{}\".format(xaxis_column_1_name),\n",
    "            mode = 'lines', \n",
    "            line = dict(color = colours[0], \n",
    "                        width = line_size[0]),\n",
    "            connectgaps=True)], \n",
    "        'layout': go.Layout(\n",
    "            xaxis = dict(showline=True,\n",
    "                         showgrid=False,\n",
    "                         showticklabels=True,\n",
    "                         linecolor='rgb(204, 204, 204)',\n",
    "                         linewidth=2,\n",
    "                         ticks='outside',\n",
    "                         tickcolor='rgb(204, 204, 204)',\n",
    "                         tickwidth=2,\n",
    "                         ticklen=5,\n",
    "                         tickfont=dict(family='Arial',\n",
    "                                       size=12,\n",
    "                                       color='rgb(82, 82, 82)')),\n",
    "            yaxis = dict(showline=True,\n",
    "                        showgrid=False,\n",
    "                        zeroline=False,\n",
    "                        hoverformat = '$,.2f',\n",
    "                        showticklabels=True,\n",
    "                        linecolor='rgb(204, 204, 204)',\n",
    "                        linewidth=2,\n",
    "                        ticks='outside',\n",
    "                        tickcolor='rgb(204, 204, 204)',\n",
    "                        tickwidth=2,\n",
    "                        ticklen=5,\n",
    "                        tickfont=dict(family='Arial',\n",
    "                                      size=12,\n",
    "                                      color='rgb(82, 82, 82)')),\n",
    "            autosize = True,\n",
    "#             margin = dict(autoexpand=False, \n",
    "#                                   l=100,\n",
    "#                                   r=100,\n",
    "#                                   t=100,\n",
    "#                                   b=100),\n",
    "            showlegend=False)\n",
    "    }\n",
    "\n",
    "if __name__ == '__main__':\n",
    "    app.run_server(debug=True)\n"
   ]
  },
  {
   "cell_type": "code",
   "execution_count": 15,
   "metadata": {},
   "outputs": [
    {
     "data": {
      "text/plain": [
       "'Sep 2018'"
      ]
     },
     "execution_count": 15,
     "metadata": {},
     "output_type": "execute_result"
    }
   ],
   "source": [
    "import datetime\n",
    "\n",
    "x = datetime.datetime(2018, 9, 1)\n",
    "my_string = x.strftime(\"%b %Y\")\n",
    "my_string"
   ]
  },
  {
   "cell_type": "code",
   "execution_count": 49,
   "metadata": {},
   "outputs": [
    {
     "data": {
      "text/plain": [
       "{'yaxis_column_1_name': 'rgb(98, 29, 75)',\n",
       " 'yaxis_column_2_name': 'rgb(61, 72, 73)'}"
      ]
     },
     "execution_count": 49,
     "metadata": {},
     "output_type": "execute_result"
    }
   ],
   "source": [
    "colours = {'yaxis_column_1_name': 'rgb(98, 29, 75)', \n",
    "            'yaxis_column_2_name': 'rgb(61, 72, 73)', \n",
    "            'yaxis_column_3_name': 'rgb(0, 0, 0)'}\n",
    "colours"
   ]
  },
  {
   "cell_type": "code",
   "execution_count": 50,
   "metadata": {},
   "outputs": [
    {
     "data": {
      "text/plain": [
       "'rgb(98, 29, 75)'"
      ]
     },
     "execution_count": 50,
     "metadata": {},
     "output_type": "execute_result"
    }
   ],
   "source": [
    "colours['yaxis_column_1_name']"
   ]
  },
  {
   "cell_type": "code",
   "execution_count": 51,
   "metadata": {},
   "outputs": [],
   "source": [
    "colours2 = ['rgb(98, 29, 75)', 'rgb(61, 72, 73)', 'rgb(0, 0, 0)' ]\n"
   ]
  },
  {
   "cell_type": "code",
   "execution_count": 52,
   "metadata": {},
   "outputs": [
    {
     "data": {
      "text/plain": [
       "'rgb(98, 29, 75)'"
      ]
     },
     "execution_count": 52,
     "metadata": {},
     "output_type": "execute_result"
    }
   ],
   "source": [
    "colours2[0]"
   ]
  },
  {
   "cell_type": "code",
   "execution_count": null,
   "metadata": {},
   "outputs": [],
   "source": [
    "\n",
    "htm\n",
    "\n",
    "\n",
    "\n",
    "\n",
    "\n",
    "\n",
    "\n",
    "\n",
    "\n",
    "\n",
    "\n",
    "\n",
    "# # Add data \n",
    "\n",
    "\n",
    "# # Add layout\n",
    "# layout = go.Layout(xaxis = dict(showline=True,\n",
    "#                                 showgrid=False,\n",
    "#                                 showticklabels=True,\n",
    "#                                 linecolor='rgb(204, 204, 204)',\n",
    "#                                 linewidth=2,\n",
    "#                                 ticks='outside',\n",
    "#                                 tickcolor='rgb(204, 204, 204)',\n",
    "#                                 tickwidth=2,\n",
    "#                                 ticklen=5,\n",
    "#                                 tickfont=dict(family='Arial',\n",
    "#                                               size=12,\n",
    "#                                               color='rgb(82, 82, 82)')),\n",
    "#                    yaxis = dict(showline=True,\n",
    "#                                 showgrid=False,\n",
    "#                                 zeroline=False,\n",
    "#                                 hoverformat = '$,.2f',\n",
    "#                                 showticklabels=True,\n",
    "#                                 linecolor='rgb(204, 204, 204)',\n",
    "#                                 linewidth=2,\n",
    "#                                 ticks='outside',\n",
    "#                                 tickcolor='rgb(204, 204, 204)',\n",
    "#                                 tickwidth=2,\n",
    "#                                 ticklen=5,\n",
    "#                                 tickfont=dict(family='Arial',\n",
    "#                                               size=12,\n",
    "#                                               color='rgb(82, 82, 82)')),\n",
    "#                     autosize = False,\n",
    "#                     margin = dict(autoexpand=False, \n",
    "#                                   l=100,\n",
    "#                                   r=100,\n",
    "#                                   t=100,\n",
    "#                                   b=100),\n",
    "#                    showlegend=False)\n",
    "\n",
    "# annotations = []\n",
    "\n",
    "# # Title\n",
    "# annotations.append(dict(xref='paper', #reference point to measure x from - 'paper' means the edges \n",
    "#                         yref='paper', \n",
    "#                         x=0.0, \n",
    "#                         y=1.2,\n",
    "#                         xanchor='left', \n",
    "#                         yanchor='bottom',\n",
    "#                         text='Spend comparison',\n",
    "#                         font=dict(family='Arial',\n",
    "#                                   size=30,\n",
    "#                                   color='rgb(61, 72, 73)'),\n",
    "#                         showarrow=False))\n",
    "\n",
    "# # Subtitle\n",
    "# annotations.append(dict(xref='paper', #reference point to measure x from - 'paper' means the edges \n",
    "#                         yref='paper', \n",
    "#                         x=0.0, \n",
    "#                         y=1.1,\n",
    "#                         xanchor='left', \n",
    "#                         yanchor='bottom',\n",
    "#                         text='Compare this month to your average spend.',\n",
    "#                         font=dict(family='Arial',\n",
    "#                                   size=14,\n",
    "#                                   color='rgb(61, 72, 73)'),\n",
    "#                         showarrow=False))\n",
    "# # Note\n",
    "# annotations.append(dict(xref='paper', \n",
    "#                         yref='paper', \n",
    "#                         x=0, \n",
    "#                         y=-0.2,\n",
    "#                         xanchor='left',\n",
    "#                         yanchor='top',\n",
    "#                         text='Note: All data is fabricated. This project was created in 2019.',\n",
    "#                         font=dict(family='Arial',\n",
    "#                                   size=12,\n",
    "#                                   color='rgb(150,150,150)'),\n",
    "#                                   showarrow=False))\n",
    "\n",
    "# # # Line labels\n",
    "# for i in range(len(labels)):\n",
    "#     annotations.append(dict(xref='paper', \n",
    "#                             x=0.95, \n",
    "#                             y=report_data[report_data.columns[i]].max(),\n",
    "#                             xanchor='left', \n",
    "#                             yanchor='middle',\n",
    "#                             text='${0:,.2f}'.format(report_data[report_data.columns[i]].max()),\n",
    "#                             font=dict(family='Arial',\n",
    "#                                       size=16, \n",
    "#                                       color = colours[i]),\n",
    "#                             showarrow=False))\n",
    "    \n",
    "# for i in range(len(labels)):\n",
    "#     annotations.append(dict(xref='paper', \n",
    "#                             x=0.95, \n",
    "#                             y=report_data[report_data.columns[i]].max() + 1000,\n",
    "# #                             y=report_data[report_data.columns[i]].max() + (report_data.max().max() * 0.1),\n",
    "#                             xanchor='left', \n",
    "#                             yanchor='middle',\n",
    "#                             text=labels[i],\n",
    "#                             font=dict(family='Arial',\n",
    "#                                       size=12, \n",
    "#                                       color = colours[i]),\n",
    "#                             showarrow=False))\n",
    "\n",
    "# layout['annotations'] = annotations # This adds the annotations to the layout dictionary - otherwise gets a bit unwieldy\n",
    "\n",
    "# fig = go.Figure(data=traces, layout=layout)\n",
    "# plotly.offline.plot(fig, filename='spend-comparison.html')"
   ]
  }
 ],
 "metadata": {
  "kernelspec": {
   "display_name": "Python 3",
   "language": "python",
   "name": "python3"
  },
  "language_info": {
   "codemirror_mode": {
    "name": "ipython",
    "version": 3
   },
   "file_extension": ".py",
   "mimetype": "text/x-python",
   "name": "python",
   "nbconvert_exporter": "python",
   "pygments_lexer": "ipython3",
   "version": "3.6.4"
  }
 },
 "nbformat": 4,
 "nbformat_minor": 2
}
