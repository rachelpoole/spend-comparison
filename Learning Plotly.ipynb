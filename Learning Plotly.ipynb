{
 "cells": [
  {
   "cell_type": "code",
   "execution_count": 117,
   "metadata": {},
   "outputs": [],
   "source": [
    "import pandas as pd\n",
    "import numpy as np\n",
    "import plotly\n",
    "import plotly.graph_objs as go\n",
    "import textwrap\n",
    "\n",
    "%matplotlib inline"
   ]
  },
  {
   "cell_type": "code",
   "execution_count": 2,
   "metadata": {},
   "outputs": [
    {
     "data": {
      "text/html": [
       "<div>\n",
       "<style scoped>\n",
       "    .dataframe tbody tr th:only-of-type {\n",
       "        vertical-align: middle;\n",
       "    }\n",
       "\n",
       "    .dataframe tbody tr th {\n",
       "        vertical-align: top;\n",
       "    }\n",
       "\n",
       "    .dataframe thead th {\n",
       "        text-align: right;\n",
       "    }\n",
       "</style>\n",
       "<table border=\"1\" class=\"dataframe\">\n",
       "  <thead>\n",
       "    <tr style=\"text-align: right;\">\n",
       "      <th></th>\n",
       "      <th>date</th>\n",
       "      <th>amount</th>\n",
       "      <th>bal</th>\n",
       "    </tr>\n",
       "  </thead>\n",
       "  <tbody>\n",
       "    <tr>\n",
       "      <th>0</th>\n",
       "      <td>2017-01-29</td>\n",
       "      <td>60.0</td>\n",
       "      <td>696.4</td>\n",
       "    </tr>\n",
       "    <tr>\n",
       "      <th>1</th>\n",
       "      <td>2017-01-29</td>\n",
       "      <td>200.0</td>\n",
       "      <td>896.4</td>\n",
       "    </tr>\n",
       "    <tr>\n",
       "      <th>2</th>\n",
       "      <td>2017-01-29</td>\n",
       "      <td>-39.9</td>\n",
       "      <td>856.5</td>\n",
       "    </tr>\n",
       "    <tr>\n",
       "      <th>3</th>\n",
       "      <td>2017-01-29</td>\n",
       "      <td>-95.0</td>\n",
       "      <td>761.5</td>\n",
       "    </tr>\n",
       "    <tr>\n",
       "      <th>4</th>\n",
       "      <td>2017-01-30</td>\n",
       "      <td>410.0</td>\n",
       "      <td>1171.5</td>\n",
       "    </tr>\n",
       "  </tbody>\n",
       "</table>\n",
       "</div>"
      ],
      "text/plain": [
       "        date  amount     bal\n",
       "0 2017-01-29    60.0   696.4\n",
       "1 2017-01-29   200.0   896.4\n",
       "2 2017-01-29   -39.9   856.5\n",
       "3 2017-01-29   -95.0   761.5\n",
       "4 2017-01-30   410.0  1171.5"
      ]
     },
     "execution_count": 2,
     "metadata": {},
     "output_type": "execute_result"
    }
   ],
   "source": [
    "df = (pd.read_csv('data/rand.csv', parse_dates = ['date'])\n",
    "        .drop(columns = 'Unnamed: 0', axis = 1))\n",
    "df.head()"
   ]
  },
  {
   "cell_type": "code",
   "execution_count": 3,
   "metadata": {},
   "outputs": [
    {
     "name": "stdout",
     "output_type": "stream",
     "text": [
      "High five! You successfully sent some data to your account on plotly. View your plot in your browser at https://plot.ly/~racpo6/0 or inside your plot.ly account where it is named 'basic-line'\n"
     ]
    },
    {
     "name": "stderr",
     "output_type": "stream",
     "text": [
      "/Users/Rachel/anaconda3/lib/python3.6/site-packages/IPython/core/display.py:689: UserWarning:\n",
      "\n",
      "Consider using IPython.display.IFrame instead\n",
      "\n"
     ]
    },
    {
     "data": {
      "text/html": [
       "<iframe id=\"igraph\" scrolling=\"no\" style=\"border:none;\" seamless=\"seamless\" src=\"https://plot.ly/~racpo6/0.embed\" height=\"525px\" width=\"100%\"></iframe>"
      ],
      "text/plain": [
       "<chart_studio.tools.PlotlyDisplay object>"
      ]
     },
     "execution_count": 3,
     "metadata": {},
     "output_type": "execute_result"
    }
   ],
   "source": [
    "trace = go.Scatter(x = df.index, \n",
    "                   y = df['amount'])\n",
    "\n",
    "data = [trace]\n",
    "\n",
    "plotly.plotly.iplot(data, filename = 'basic-line')"
   ]
  },
  {
   "cell_type": "code",
   "execution_count": 4,
   "metadata": {},
   "outputs": [
    {
     "data": {
      "text/plain": [
       "'temp-plot.html'"
      ]
     },
     "execution_count": 4,
     "metadata": {},
     "output_type": "execute_result"
    }
   ],
   "source": [
    "plotly.offline.plot({'data': [go.Scatter(x=df.date, y=df.amount)],\n",
    "                     'layout': go.Layout(title=\"Hi Rachel\")},\n",
    "                      auto_open=True)"
   ]
  },
  {
   "cell_type": "code",
   "execution_count": 5,
   "metadata": {},
   "outputs": [
    {
     "data": {
      "text/plain": [
       "'temp-plot.html'"
      ]
     },
     "execution_count": 5,
     "metadata": {},
     "output_type": "execute_result"
    }
   ],
   "source": [
    "daily = df.groupby('date')[['amount', 'bal']].agg({'amount':'sum', 'bal':'last'})\n",
    "daily\n",
    "\n",
    "plotly.offline.plot({'data': [go.Scatter(x = daily.index, \n",
    "                                         y = daily.amount)],\n",
    "                     'layout': go.Layout(title = \"Daily spend\")})"
   ]
  },
  {
   "cell_type": "code",
   "execution_count": 6,
   "metadata": {},
   "outputs": [
    {
     "data": {
      "text/html": [
       "<div>\n",
       "<style scoped>\n",
       "    .dataframe tbody tr th:only-of-type {\n",
       "        vertical-align: middle;\n",
       "    }\n",
       "\n",
       "    .dataframe tbody tr th {\n",
       "        vertical-align: top;\n",
       "    }\n",
       "\n",
       "    .dataframe thead th {\n",
       "        text-align: right;\n",
       "    }\n",
       "</style>\n",
       "<table border=\"1\" class=\"dataframe\">\n",
       "  <thead>\n",
       "    <tr style=\"text-align: right;\">\n",
       "      <th></th>\n",
       "      <th>date</th>\n",
       "      <th>amount</th>\n",
       "      <th>bal</th>\n",
       "      <th>cumulative_annual</th>\n",
       "      <th>cumulative_month</th>\n",
       "    </tr>\n",
       "  </thead>\n",
       "  <tbody>\n",
       "    <tr>\n",
       "      <th>0</th>\n",
       "      <td>2017-01-29</td>\n",
       "      <td>-39.90</td>\n",
       "      <td>856.50</td>\n",
       "      <td>-39.90</td>\n",
       "      <td>-39.90</td>\n",
       "    </tr>\n",
       "    <tr>\n",
       "      <th>1</th>\n",
       "      <td>2017-01-29</td>\n",
       "      <td>-95.00</td>\n",
       "      <td>761.50</td>\n",
       "      <td>-134.90</td>\n",
       "      <td>-134.90</td>\n",
       "    </tr>\n",
       "    <tr>\n",
       "      <th>2</th>\n",
       "      <td>2017-01-30</td>\n",
       "      <td>-410.00</td>\n",
       "      <td>761.50</td>\n",
       "      <td>-544.90</td>\n",
       "      <td>-544.90</td>\n",
       "    </tr>\n",
       "    <tr>\n",
       "      <th>3</th>\n",
       "      <td>2017-01-30</td>\n",
       "      <td>-40.15</td>\n",
       "      <td>721.35</td>\n",
       "      <td>-585.05</td>\n",
       "      <td>-585.05</td>\n",
       "    </tr>\n",
       "    <tr>\n",
       "      <th>4</th>\n",
       "      <td>2017-01-30</td>\n",
       "      <td>-25.85</td>\n",
       "      <td>695.50</td>\n",
       "      <td>-610.90</td>\n",
       "      <td>-610.90</td>\n",
       "    </tr>\n",
       "  </tbody>\n",
       "</table>\n",
       "</div>"
      ],
      "text/plain": [
       "        date  amount     bal  cumulative_annual  cumulative_month\n",
       "0 2017-01-29  -39.90  856.50             -39.90            -39.90\n",
       "1 2017-01-29  -95.00  761.50            -134.90           -134.90\n",
       "2 2017-01-30 -410.00  761.50            -544.90           -544.90\n",
       "3 2017-01-30  -40.15  721.35            -585.05           -585.05\n",
       "4 2017-01-30  -25.85  695.50            -610.90           -610.90"
      ]
     },
     "execution_count": 6,
     "metadata": {},
     "output_type": "execute_result"
    }
   ],
   "source": [
    "spend = (df.copy()\n",
    "          .loc[df['amount']<0]\n",
    "          .reset_index(drop=True)\n",
    "          .assign(cumulative_annual = lambda x: x.groupby(x['date'].dt.year)['amount'].cumsum(),\n",
    "                  cumulative_month = lambda x: x.groupby(x['date'].dt.month)['amount'].cumsum()))\n",
    "spend.head()"
   ]
  },
  {
   "cell_type": "code",
   "execution_count": 7,
   "metadata": {},
   "outputs": [
    {
     "data": {
      "text/html": [
       "<div>\n",
       "<style scoped>\n",
       "    .dataframe tbody tr th:only-of-type {\n",
       "        vertical-align: middle;\n",
       "    }\n",
       "\n",
       "    .dataframe tbody tr th {\n",
       "        vertical-align: top;\n",
       "    }\n",
       "\n",
       "    .dataframe thead th {\n",
       "        text-align: right;\n",
       "    }\n",
       "</style>\n",
       "<table border=\"1\" class=\"dataframe\">\n",
       "  <thead>\n",
       "    <tr style=\"text-align: right;\">\n",
       "      <th></th>\n",
       "      <th>date</th>\n",
       "      <th>amount</th>\n",
       "      <th>bal</th>\n",
       "      <th>cumulative_annual</th>\n",
       "      <th>cumulative_month</th>\n",
       "      <th>month</th>\n",
       "      <th>day</th>\n",
       "    </tr>\n",
       "  </thead>\n",
       "  <tbody>\n",
       "    <tr>\n",
       "      <th>550</th>\n",
       "      <td>2019-01-01</td>\n",
       "      <td>-74.65</td>\n",
       "      <td>258.68</td>\n",
       "      <td>-74.65</td>\n",
       "      <td>-74.65</td>\n",
       "      <td>2019-01</td>\n",
       "      <td>1</td>\n",
       "    </tr>\n",
       "  </tbody>\n",
       "</table>\n",
       "</div>"
      ],
      "text/plain": [
       "          date  amount     bal  cumulative_annual  cumulative_month    month  \\\n",
       "550 2019-01-01  -74.65  258.68             -74.65            -74.65  2019-01   \n",
       "\n",
       "     day  \n",
       "550    1  "
      ]
     },
     "execution_count": 7,
     "metadata": {},
     "output_type": "execute_result"
    }
   ],
   "source": [
    "daily_spend = (df.copy()\n",
    "                 .loc[df['amount']<0]\n",
    "                 .groupby('date')[['amount', 'bal']].agg({'amount':'sum', 'bal':'last'})\n",
    "                 .reset_index()\n",
    "                 .assign(cumulative_annual = lambda x: x.groupby(x['date'].dt.year)['amount'].cumsum(),\n",
    "                         cumulative_month = lambda x: x.groupby(x['date'].dt.to_period('M'))['amount'].cumsum(), \n",
    "                         month = lambda x: x['date'].dt.to_period('M'), \n",
    "                         day = lambda x: x['date'].dt.day))\n",
    "\n",
    "daily_spend.loc[daily_spend['date']=='2019-01-01']"
   ]
  },
  {
   "cell_type": "code",
   "execution_count": 149,
   "metadata": {},
   "outputs": [
    {
     "data": {
      "text/html": [
       "<div>\n",
       "<style scoped>\n",
       "    .dataframe tbody tr th:only-of-type {\n",
       "        vertical-align: middle;\n",
       "    }\n",
       "\n",
       "    .dataframe tbody tr th {\n",
       "        vertical-align: top;\n",
       "    }\n",
       "\n",
       "    .dataframe thead th {\n",
       "        text-align: right;\n",
       "    }\n",
       "</style>\n",
       "<table border=\"1\" class=\"dataframe\">\n",
       "  <thead>\n",
       "    <tr style=\"text-align: right;\">\n",
       "      <th></th>\n",
       "      <th>This month to date</th>\n",
       "      <th>Last month</th>\n",
       "      <th>past_12_months_average</th>\n",
       "    </tr>\n",
       "    <tr>\n",
       "      <th>day</th>\n",
       "      <th></th>\n",
       "      <th></th>\n",
       "      <th></th>\n",
       "    </tr>\n",
       "  </thead>\n",
       "  <tbody>\n",
       "    <tr>\n",
       "      <th>27</th>\n",
       "      <td>NaN</td>\n",
       "      <td>8772.58</td>\n",
       "      <td>11653.117500</td>\n",
       "    </tr>\n",
       "    <tr>\n",
       "      <th>28</th>\n",
       "      <td>NaN</td>\n",
       "      <td>8772.58</td>\n",
       "      <td>12191.210833</td>\n",
       "    </tr>\n",
       "    <tr>\n",
       "      <th>29</th>\n",
       "      <td>NaN</td>\n",
       "      <td>8772.58</td>\n",
       "      <td>12236.251667</td>\n",
       "    </tr>\n",
       "    <tr>\n",
       "      <th>30</th>\n",
       "      <td>NaN</td>\n",
       "      <td>8893.69</td>\n",
       "      <td>12526.500833</td>\n",
       "    </tr>\n",
       "    <tr>\n",
       "      <th>31</th>\n",
       "      <td>NaN</td>\n",
       "      <td>NaN</td>\n",
       "      <td>12796.836667</td>\n",
       "    </tr>\n",
       "  </tbody>\n",
       "</table>\n",
       "</div>"
      ],
      "text/plain": [
       "     This month to date  Last month  past_12_months_average\n",
       "day                                                        \n",
       "27                  NaN     8772.58            11653.117500\n",
       "28                  NaN     8772.58            12191.210833\n",
       "29                  NaN     8772.58            12236.251667\n",
       "30                  NaN     8893.69            12526.500833\n",
       "31                  NaN         NaN            12796.836667"
      ]
     },
     "execution_count": 149,
     "metadata": {},
     "output_type": "execute_result"
    },
    {
     "data": {
      "image/png": "[encoded data removed]",
      "text/plain": [
       "<matplotlib.figure.Figure at 0x116403438>"
      ]
     },
     "metadata": {
      "needs_background": "light"
     },
     "output_type": "display_data"
    }
   ],
   "source": [
    "data = (daily_spend.pivot_table(values = 'cumulative_month', index = 'day', columns = 'month', aggfunc = 'sum')\n",
    "                   .multiply(-1)\n",
    "                   .replace(np.nan, method = 'ffill')\n",
    "                   .assign(average_past_12_months = lambda x: x[x.columns[-12:]].mean(axis=1)))\n",
    "data.columns = data.columns.astype('str')\n",
    "\n",
    "report_data = data.copy()[data.columns[-3:]]\n",
    "report_data.columns = ['2019-04', '2019-03', 'past_12_months_average']\n",
    "report_data = report_data.rename(columns = {'2019-04': 'This month to date', '2019-03': 'Last month', 'annual_average': 'Average month'})\n",
    "\n",
    "# Set some values to np.nan for authenticity - as if the month hasn't finished\n",
    "report_data.loc[21:, 'This month to date'] = np.nan\n",
    "\n",
    "# Manually remove April 31 - work out the proper way to do this\n",
    "report_data.loc[31, 'Last month'] = np.nan\n",
    "\n",
    "report_data.plot(kind = 'line');\n",
    "\n",
    "report_data.tail()"
   ]
  },
  {
   "cell_type": "code",
   "execution_count": 124,
   "metadata": {},
   "outputs": [
    {
     "data": {
      "text/plain": [
       "['This is a very long title and it would be great to',\n",
       " 'have it on three lines']"
      ]
     },
     "execution_count": 124,
     "metadata": {},
     "output_type": "execute_result"
    }
   ],
   "source": [
    "x = 'This is a very long title and it would be great to have it on three lines'\n",
    "\n",
    "split_text = textwrap.wrap('{}'.format(x), width=50)\n",
    "split_text"
   ]
  },
  {
   "cell_type": "code",
   "execution_count": 170,
   "metadata": {},
   "outputs": [
    {
     "data": {
      "text/plain": [
       "'spend-comparison.html'"
      ]
     },
     "execution_count": 170,
     "metadata": {},
     "output_type": "execute_result"
    }
   ],
   "source": [
    "import plotly.plotly as py\n",
    "import plotly.graph_objs as go\n",
    "\n",
    "# Properties\n",
    "labels = ['This month to date', 'Last month', 'Average month']\n",
    "colours = ['rgb(98, 29, 75)', 'rgb(61, 72, 73)', 'rgb(189,189,189)']\n",
    "mode_size = [12, 8, 8]\n",
    "line_size = [4, 2, 2]\n",
    "\n",
    "# Add data \n",
    "traces = []\n",
    "\n",
    "for i in range(len(labels)):\n",
    "    traces.append(go.Scatter(x = report_data.index, \n",
    "                             y = report_data[report_data.columns[i]], \n",
    "                             name = labels[i],\n",
    "                             mode = 'lines', \n",
    "                             line = dict(color = colours[i], \n",
    "                                         width = line_size[i]),\n",
    "                             connectgaps=True))\n",
    "    \n",
    "for i in range(len(labels)):\n",
    "    traces.append(go.Scatter(x= [report_data[report_data.columns[i]].idxmax()],\n",
    "                             y= [report_data[report_data.columns[i]].max()],\n",
    "                             hoverinfo = 'skip',\n",
    "                             mode='markers',\n",
    "                             marker= dict(color=colours[i], \n",
    "                                          size=mode_size[i])))\n",
    "\n",
    "# Add layout\n",
    "layout = go.Layout(xaxis = dict(showline=True,\n",
    "                                showgrid=False,\n",
    "                                showticklabels=True,\n",
    "                                linecolor='rgb(204, 204, 204)',\n",
    "                                linewidth=2,\n",
    "                                ticks='outside',\n",
    "                                tickcolor='rgb(204, 204, 204)',\n",
    "                                tickwidth=2,\n",
    "                                ticklen=5,\n",
    "                                tickfont=dict(family='Arial',\n",
    "                                              size=12,\n",
    "                                              color='rgb(82, 82, 82)')),\n",
    "                   yaxis = dict(showline=True,\n",
    "                                showgrid=False,\n",
    "                                zeroline=False,\n",
    "                                hoverformat = '$,.2f',\n",
    "                                showticklabels=True,\n",
    "                                linecolor='rgb(204, 204, 204)',\n",
    "                                linewidth=2,\n",
    "                                ticks='outside',\n",
    "                                tickcolor='rgb(204, 204, 204)',\n",
    "                                tickwidth=2,\n",
    "                                ticklen=5,\n",
    "                                tickfont=dict(family='Arial',\n",
    "                                              size=12,\n",
    "                                              color='rgb(82, 82, 82)')),\n",
    "                    autosize = False,\n",
    "                    margin = dict(autoexpand=False, \n",
    "                                  l=100,\n",
    "                                  r=100,\n",
    "                                  t=100,\n",
    "                                  b=100),\n",
    "                   showlegend=False)\n",
    "\n",
    "annotations = []\n",
    "\n",
    "# Title\n",
    "annotations.append(dict(xref='paper', #reference point to measure x from - 'paper' means the edges \n",
    "                        yref='paper', \n",
    "                        x=0.0, \n",
    "                        y=1.2,\n",
    "                        xanchor='left', \n",
    "                        yanchor='bottom',\n",
    "                        text='Spend comparison',\n",
    "                        font=dict(family='Arial',\n",
    "                                  size=30,\n",
    "                                  color='rgb(61, 72, 73)'),\n",
    "                        showarrow=False))\n",
    "# Note\n",
    "annotations.append(dict(xref='paper', \n",
    "                        yref='paper', \n",
    "                        x=0, \n",
    "                        y=-0.2,\n",
    "                        xanchor='left',\n",
    "                        yanchor='top',\n",
    "                        text='Note: All data is fabricated. This project was created in 2019.',\n",
    "                        font=dict(family='Arial',\n",
    "                                  size=12,\n",
    "                                  color='rgb(150,150,150)'),\n",
    "                                  showarrow=False))\n",
    "\n",
    "# # Line labels\n",
    "for i in range(len(labels)):\n",
    "    annotations.append(dict(xref='paper', \n",
    "                            x=0.95, \n",
    "                            y=report_data[report_data.columns[i]].max(),\n",
    "                            xanchor='left', \n",
    "                            yanchor='middle',\n",
    "                            text='${0:,.2f}'.format(report_data[report_data.columns[i]].max()),\n",
    "                            font=dict(family='Arial',\n",
    "                                      size=16, \n",
    "                                      color = colours[i]),\n",
    "                            showarrow=False))\n",
    "    \n",
    "for i in range(len(labels)):\n",
    "    annotations.append(dict(xref='paper', \n",
    "                            x=0.95, \n",
    "                            y=report_data[report_data.columns[i]].max() + 1000,\n",
    "#                             y=report_data[report_data.columns[i]].max() + (report_data.max().max() * 0.1),\n",
    "                            xanchor='left', \n",
    "                            yanchor='middle',\n",
    "                            text=labels[i],\n",
    "                            font=dict(family='Arial',\n",
    "                                      size=12, \n",
    "                                      color = colours[i]),\n",
    "                            showarrow=False))\n",
    "\n",
    "layout['annotations'] = annotations # This adds the annotations to the layout dictionary - otherwise gets a bit unwieldy\n",
    "\n",
    "fig = go.Figure(data=traces, layout=layout)\n",
    "plotly.offline.plot(fig, filename='spend-comparison.html')"
   ]
  },
  {
   "cell_type": "code",
   "execution_count": 162,
   "metadata": {},
   "outputs": [
    {
     "data": {
      "text/plain": [
       "[Scatter({\n",
       "     'connectgaps': True,\n",
       "     'line': {'color': 'rgb(98, 29, 75)', 'width': 4},\n",
       "     'mode': 'lines',\n",
       "     'x': array([ 1,  2,  3,  4,  5,  6,  7,  8,  9, 10, 11, 12, 13, 14, 15, 16, 17, 18,\n",
       "                 19, 20, 21, 22, 23, 24, 25, 26, 27, 28, 29, 30, 31]),\n",
       "     'y': array([  70.54,   78.72,   99.2 ,  157.67,  452.73,  631.7 ,  684.9 , 1018.83,\n",
       "                 1083.04, 1083.04, 1093.54, 1134.56, 1397.04, 3688.63, 3918.65, 3995.82,\n",
       "                 4026.62, 4070.82, 5744.83, 5820.61,     nan,     nan,     nan,     nan,\n",
       "                     nan,     nan,     nan,     nan,     nan,     nan,     nan])\n",
       " }), Scatter({\n",
       "     'connectgaps': True,\n",
       "     'line': {'color': 'rgb(61, 72, 73)', 'width': 2},\n",
       "     'mode': 'lines',\n",
       "     'x': array([ 1,  2,  3,  4,  5,  6,  7,  8,  9, 10, 11, 12, 13, 14, 15, 16, 17, 18,\n",
       "                 19, 20, 21, 22, 23, 24, 25, 26, 27, 28, 29, 30, 31]),\n",
       "     'y': array([  47.82,  239.42,  309.71,  358.17,  400.59,  445.12,  468.32,  472.82,\n",
       "                  512.07,  589.05, 2829.81, 3064.95, 3283.44, 3315.6 , 3322.1 , 3571.49,\n",
       "                 3750.92, 3871.83, 3880.83, 3880.83, 3880.83, 3880.83, 3894.33, 3955.42,\n",
       "                 8541.7 , 8731.4 , 8772.58, 8772.58, 8772.58, 8893.69,     nan])\n",
       " }), Scatter({\n",
       "     'connectgaps': True,\n",
       "     'line': {'color': 'rgb(189,189,189)', 'width': 2},\n",
       "     'mode': 'lines',\n",
       "     'x': array([ 1,  2,  3,  4,  5,  6,  7,  8,  9, 10, 11, 12, 13, 14, 15, 16, 17, 18,\n",
       "                 19, 20, 21, 22, 23, 24, 25, 26, 27, 28, 29, 30, 31]),\n",
       "     'y': array([  115.43      ,   724.21583333,  1424.90583333,  1949.95916667,\n",
       "                  2212.96083333,  2791.35583333,  3455.54583333,  4244.41333333,\n",
       "                  4639.0825    ,  4824.39166667,  5490.54416667,  5590.21416667,\n",
       "                  6476.22333333,  7363.19666667,  7433.18833333,  7755.21833333,\n",
       "                  8067.22416667,  8140.79666667,  8543.645     ,  8865.46833333,\n",
       "                  9571.14916667,  9967.49666667, 10440.5825    , 10511.9675    ,\n",
       "                 11189.94      , 11327.97583333, 11653.1175    , 12191.21083333,\n",
       "                 12236.25166667, 12526.50083333, 12796.83666667])\n",
       " }), Scatter({\n",
       "     'marker': {'color': 'rgb(98, 29, 75)', 'size': 12}, 'mode': 'markers', 'x': [20], 'y': [5820.61]\n",
       " }), Scatter({\n",
       "     'marker': {'color': 'rgb(61, 72, 73)', 'size': 8}, 'mode': 'markers', 'x': [30], 'y': [8893.690000000002]\n",
       " }), Scatter({\n",
       "     'marker': {'color': 'rgb(189,189,189)', 'size': 8}, 'mode': 'markers', 'x': [31], 'y': [12796.836666666668]\n",
       " })]"
      ]
     },
     "execution_count": 162,
     "metadata": {},
     "output_type": "execute_result"
    }
   ],
   "source": [
    "traces"
   ]
  },
  {
   "cell_type": "code",
   "execution_count": 126,
   "metadata": {},
   "outputs": [
    {
     "data": {
      "text/html": [
       "<div>\n",
       "<style scoped>\n",
       "    .dataframe tbody tr th:only-of-type {\n",
       "        vertical-align: middle;\n",
       "    }\n",
       "\n",
       "    .dataframe tbody tr th {\n",
       "        vertical-align: top;\n",
       "    }\n",
       "\n",
       "    .dataframe thead th {\n",
       "        text-align: right;\n",
       "    }\n",
       "</style>\n",
       "<table border=\"1\" class=\"dataframe\">\n",
       "  <thead>\n",
       "    <tr style=\"text-align: right;\">\n",
       "      <th></th>\n",
       "      <th>2017</th>\n",
       "      <th>2018</th>\n",
       "    </tr>\n",
       "  </thead>\n",
       "  <tbody>\n",
       "    <tr>\n",
       "      <th>1-Jan</th>\n",
       "      <td>300</td>\n",
       "      <td>150</td>\n",
       "    </tr>\n",
       "    <tr>\n",
       "      <th>2-Jan</th>\n",
       "      <td>400</td>\n",
       "      <td>170</td>\n",
       "    </tr>\n",
       "    <tr>\n",
       "      <th>3-Jan</th>\n",
       "      <td>420</td>\n",
       "      <td>510</td>\n",
       "    </tr>\n",
       "  </tbody>\n",
       "</table>\n",
       "</div>"
      ],
      "text/plain": [
       "       2017  2018\n",
       "1-Jan   300   150\n",
       "2-Jan   400   170\n",
       "3-Jan   420   510"
      ]
     },
     "execution_count": 126,
     "metadata": {},
     "output_type": "execute_result"
    }
   ],
   "source": [
    "test = pd.DataFrame({'2017': [300, 400, 420], \n",
    "                     '2018': [150, 170, 510]},\n",
    "                     index = ['1-Jan', '2-Jan', '3-Jan'])\n",
    "test"
   ]
  },
  {
   "cell_type": "code",
   "execution_count": 138,
   "metadata": {},
   "outputs": [
    {
     "data": {
      "text/plain": [
       "'temp-plot.html'"
      ]
     },
     "execution_count": 138,
     "metadata": {},
     "output_type": "execute_result"
    }
   ],
   "source": [
    "trace0 = go.Scatter(x = test.index, \n",
    "                   y = test['2017'], \n",
    "                   name = '2017', \n",
    "                   line = dict(color = ('rgb(147,147,147)'), \n",
    "                           width = 2))\n",
    "trace1 = go.Scatter(x = test.index, \n",
    "                   y = test['2018'], \n",
    "#                    mode = 'lines', \n",
    "                   name = '2018', \n",
    "                   line = dict(color = ('rgb(0,0,0)'), \n",
    "                           width = 4))\n",
    "\n",
    "plotly.offline.plot({'data': [trace0, trace1],\n",
    "                     'layout': go.Layout(title=\"Hi Rachel\")},\n",
    "                      auto_open=True)"
   ]
  }
 ],
 "metadata": {
  "kernelspec": {
   "display_name": "Python 3",
   "language": "python",
   "name": "python3"
  },
  "language_info": {
   "codemirror_mode": {
    "name": "ipython",
    "version": 3
   },
   "file_extension": ".py",
   "mimetype": "text/x-python",
   "name": "python",
   "nbconvert_exporter": "python",
   "pygments_lexer": "ipython3",
   "version": "3.6.4"
  }
 },
 "nbformat": 4,
 "nbformat_minor": 2
}
